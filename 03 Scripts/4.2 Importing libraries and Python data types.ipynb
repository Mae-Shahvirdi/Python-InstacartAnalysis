{
 "cells": [
  {
   "cell_type": "code",
   "execution_count": 46,
   "id": "13670629-4fd4-4e7b-b5ea-f1d618032bfd",
   "metadata": {},
   "outputs": [],
   "source": [
    "#01.Import libraries\n",
    "import pandas as pd\n",
    "import numpy as np\n",
    "import os"
   ]
  },
  {
   "cell_type": "code",
   "execution_count": 47,
   "id": "943fd7d9-6706-4d9a-bd72-9283093c7d1f",
   "metadata": {},
   "outputs": [
    {
     "name": "stdout",
     "output_type": "stream",
     "text": [
      "100\n"
     ]
    }
   ],
   "source": [
    "a = 50\n",
    "print(a*2)"
   ]
  },
  {
   "cell_type": "code",
   "execution_count": 48,
   "id": "a7bc2381-aa0d-40d2-bfcf-0b155b0bde74",
   "metadata": {},
   "outputs": [
    {
     "name": "stdout",
     "output_type": "stream",
     "text": [
      "100.0\n"
     ]
    }
   ],
   "source": [
    "b = 200\n",
    "print(b/2)"
   ]
  },
  {
   "cell_type": "code",
   "execution_count": 49,
   "id": "9b3d3b35-498b-4827-9a4e-d4bc045e1266",
   "metadata": {},
   "outputs": [
    {
     "name": "stdout",
     "output_type": "stream",
     "text": [
      "100\n"
     ]
    }
   ],
   "source": [
    "c = 60\n",
    "print (c+40)"
   ]
  },
  {
   "cell_type": "code",
   "execution_count": 50,
   "id": "f1f7fcb0-4f0a-419d-bdf2-bf4428c4b470",
   "metadata": {},
   "outputs": [
    {
     "name": "stdout",
     "output_type": "stream",
     "text": [
      "3.7058823529411766\n"
     ]
    }
   ],
   "source": [
    "d = 12.6\n",
    "e = 3.4\n",
    "print (d/e)"
   ]
  },
  {
   "cell_type": "code",
   "execution_count": 51,
   "id": "97a8a4fc-2a90-4563-9bb7-831ad421bfa6",
   "metadata": {},
   "outputs": [
    {
     "name": "stdout",
     "output_type": "stream",
     "text": [
      "short word: Data Immersion\n"
     ]
    }
   ],
   "source": [
    "f = 'Data '\n",
    "g = 'Immersion'\n",
    "print(\"short word:\", f + g)"
   ]
  },
  {
   "cell_type": "code",
   "execution_count": 52,
   "id": "1df395ac-fbc7-404b-b777-c3db39415c96",
   "metadata": {},
   "outputs": [
    {
     "name": "stdout",
     "output_type": "stream",
     "text": [
      "sentence 1:  Hello world!\n"
     ]
    }
   ],
   "source": [
    "f = 'Hello '\n",
    "g = 'world!'\n",
    "print( 'sentence 1: ', f + g)"
   ]
  },
  {
   "cell_type": "code",
   "execution_count": 53,
   "id": "c5674994-61c8-4c01-88bd-6e8a06c9ffc8",
   "metadata": {},
   "outputs": [
    {
     "name": "stdout",
     "output_type": "stream",
     "text": [
      "Second Sentence:  Good Morning to you!\n"
     ]
    }
   ],
   "source": [
    "h = 'Good Morning'\n",
    "i = 'to'\n",
    "j = 'you!'\n",
    "print ('Second Sentence: ', h+' '+i+' '+j)"
   ]
  },
  {
   "cell_type": "code",
   "execution_count": null,
   "id": "3f83173f-2770-4e18-8a5c-0aa48176f4da",
   "metadata": {},
   "outputs": [],
   "source": []
  }
 ],
 "metadata": {
  "kernelspec": {
   "display_name": "Python 3 (ipykernel)",
   "language": "python",
   "name": "python3"
  },
  "language_info": {
   "codemirror_mode": {
    "name": "ipython",
    "version": 3
   },
   "file_extension": ".py",
   "mimetype": "text/x-python",
   "name": "python",
   "nbconvert_exporter": "python",
   "pygments_lexer": "ipython3",
   "version": "3.11.7"
  }
 },
 "nbformat": 4,
 "nbformat_minor": 5
}
