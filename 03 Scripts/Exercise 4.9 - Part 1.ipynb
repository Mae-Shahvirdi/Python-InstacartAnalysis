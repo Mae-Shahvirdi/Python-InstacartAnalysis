{
 "cells": [
  {
   "cell_type": "markdown",
   "id": "288de59b-c43d-4dd3-b952-f20606982465",
   "metadata": {},
   "source": [
    "# Exercise 4.9- Task 1\n",
    "### 01. Import the libraries data sets into Jupyter\n",
    "### 02. Wangle the data, rename columns with illogical names and drop columns that don’t add anything to your analysis\n",
    "### 03. Check the fundamental data quality and consistency, as missing values and duplicate\n",
    "### 04. Combine the customer data with the Instracart data\n",
    "### 05. Export"
   ]
  },
  {
   "cell_type": "markdown",
   "id": "994fbc14-36d4-4d01-bd1d-b1b08545504f",
   "metadata": {},
   "source": [
    "# 01. Import the libraries data sets into Jupyter"
   ]
  },
  {
   "cell_type": "code",
   "execution_count": 1,
   "id": "99d3d0ac-df89-48d8-b95e-78e7e75181e7",
   "metadata": {},
   "outputs": [],
   "source": [
    "import pandas as pd\n",
    "import numpy as np\n",
    "import os"
   ]
  },
  {
   "cell_type": "code",
   "execution_count": 2,
   "id": "b26c102e-c9df-4b7b-b3bc-a71ef69dffda",
   "metadata": {},
   "outputs": [],
   "source": [
    "# Turn the project folder path into a string\n",
    "path = r'/Users/fatemehshahvirdi/Work-Related/Data Analysis/Data Immersion/Achievement 4/Instacart Basket Analysis'"
   ]
  },
  {
   "cell_type": "code",
   "execution_count": 3,
   "id": "33001ef4-40e1-4a09-8fae-f1891b6f0163",
   "metadata": {},
   "outputs": [],
   "source": [
    "# import new customer dataframe\n",
    "customer = pd.read_csv (os.path.join(path, '02 Data', 'Original Data', 'customers.csv'), index_col = False)"
   ]
  },
  {
   "cell_type": "markdown",
   "id": "5983876d-17ce-4324-a889-75288dc929cc",
   "metadata": {},
   "source": [
    "# 02. Wangle the data, rename columns with illogical names and drop columns that don’t add anything to your analysis"
   ]
  },
  {
   "cell_type": "code",
   "execution_count": 4,
   "id": "58f7ba47-0f1c-455c-868e-da30243caed2",
   "metadata": {},
   "outputs": [
    {
     "data": {
      "text/plain": [
       "(206209, 10)"
      ]
     },
     "execution_count": 4,
     "metadata": {},
     "output_type": "execute_result"
    }
   ],
   "source": [
    "customer.shape"
   ]
  },
  {
   "cell_type": "code",
   "execution_count": 5,
   "id": "9cc6ddc4-a101-476a-9b2f-ffad47db0d05",
   "metadata": {},
   "outputs": [],
   "source": [
    "customer.rename(columns = {'First Name' : 'first_name' , 'Surnam' : 'family_name' , 'Gender' : 'gender', 'STATE' : 'state', 'Age' : 'age', 'fam_status' : 'marital_statues'}, inplace = True)"
   ]
  },
  {
   "cell_type": "code",
   "execution_count": 6,
   "id": "dde69359-d684-401e-81b3-f9b97ac63dbc",
   "metadata": {},
   "outputs": [
    {
     "data": {
      "text/plain": [
       "Index(['user_id', 'first_name', 'family_name', 'gender', 'state', 'age',\n",
       "       'date_joined', 'n_dependants', 'marital_statues', 'income'],\n",
       "      dtype='object')"
      ]
     },
     "execution_count": 6,
     "metadata": {},
     "output_type": "execute_result"
    }
   ],
   "source": [
    "customer.columns"
   ]
  },
  {
   "cell_type": "code",
   "execution_count": 7,
   "id": "594da7d1-a313-4f3e-acae-f5cff0def2ba",
   "metadata": {},
   "outputs": [
    {
     "data": {
      "text/html": [
       "<div>\n",
       "<style scoped>\n",
       "    .dataframe tbody tr th:only-of-type {\n",
       "        vertical-align: middle;\n",
       "    }\n",
       "\n",
       "    .dataframe tbody tr th {\n",
       "        vertical-align: top;\n",
       "    }\n",
       "\n",
       "    .dataframe thead th {\n",
       "        text-align: right;\n",
       "    }\n",
       "</style>\n",
       "<table border=\"1\" class=\"dataframe\">\n",
       "  <thead>\n",
       "    <tr style=\"text-align: right;\">\n",
       "      <th></th>\n",
       "      <th>user_id</th>\n",
       "      <th>first_name</th>\n",
       "      <th>family_name</th>\n",
       "      <th>gender</th>\n",
       "      <th>state</th>\n",
       "      <th>age</th>\n",
       "      <th>date_joined</th>\n",
       "      <th>n_dependants</th>\n",
       "      <th>marital_statues</th>\n",
       "      <th>income</th>\n",
       "    </tr>\n",
       "  </thead>\n",
       "  <tbody>\n",
       "    <tr>\n",
       "      <th>0</th>\n",
       "      <td>26711</td>\n",
       "      <td>Deborah</td>\n",
       "      <td>Esquivel</td>\n",
       "      <td>Female</td>\n",
       "      <td>Missouri</td>\n",
       "      <td>48</td>\n",
       "      <td>1/1/2017</td>\n",
       "      <td>3</td>\n",
       "      <td>married</td>\n",
       "      <td>165665</td>\n",
       "    </tr>\n",
       "    <tr>\n",
       "      <th>1</th>\n",
       "      <td>33890</td>\n",
       "      <td>Patricia</td>\n",
       "      <td>Hart</td>\n",
       "      <td>Female</td>\n",
       "      <td>New Mexico</td>\n",
       "      <td>36</td>\n",
       "      <td>1/1/2017</td>\n",
       "      <td>0</td>\n",
       "      <td>single</td>\n",
       "      <td>59285</td>\n",
       "    </tr>\n",
       "    <tr>\n",
       "      <th>2</th>\n",
       "      <td>65803</td>\n",
       "      <td>Kenneth</td>\n",
       "      <td>Farley</td>\n",
       "      <td>Male</td>\n",
       "      <td>Idaho</td>\n",
       "      <td>35</td>\n",
       "      <td>1/1/2017</td>\n",
       "      <td>2</td>\n",
       "      <td>married</td>\n",
       "      <td>99568</td>\n",
       "    </tr>\n",
       "    <tr>\n",
       "      <th>3</th>\n",
       "      <td>125935</td>\n",
       "      <td>Michelle</td>\n",
       "      <td>Hicks</td>\n",
       "      <td>Female</td>\n",
       "      <td>Iowa</td>\n",
       "      <td>40</td>\n",
       "      <td>1/1/2017</td>\n",
       "      <td>0</td>\n",
       "      <td>single</td>\n",
       "      <td>42049</td>\n",
       "    </tr>\n",
       "    <tr>\n",
       "      <th>4</th>\n",
       "      <td>130797</td>\n",
       "      <td>Ann</td>\n",
       "      <td>Gilmore</td>\n",
       "      <td>Female</td>\n",
       "      <td>Maryland</td>\n",
       "      <td>26</td>\n",
       "      <td>1/1/2017</td>\n",
       "      <td>1</td>\n",
       "      <td>married</td>\n",
       "      <td>40374</td>\n",
       "    </tr>\n",
       "  </tbody>\n",
       "</table>\n",
       "</div>"
      ],
      "text/plain": [
       "   user_id first_name family_name  gender       state  age date_joined  \\\n",
       "0    26711    Deborah    Esquivel  Female    Missouri   48    1/1/2017   \n",
       "1    33890   Patricia        Hart  Female  New Mexico   36    1/1/2017   \n",
       "2    65803    Kenneth      Farley    Male       Idaho   35    1/1/2017   \n",
       "3   125935   Michelle       Hicks  Female        Iowa   40    1/1/2017   \n",
       "4   130797        Ann     Gilmore  Female    Maryland   26    1/1/2017   \n",
       "\n",
       "   n_dependants marital_statues  income  \n",
       "0             3         married  165665  \n",
       "1             0          single   59285  \n",
       "2             2         married   99568  \n",
       "3             0          single   42049  \n",
       "4             1         married   40374  "
      ]
     },
     "execution_count": 7,
     "metadata": {},
     "output_type": "execute_result"
    }
   ],
   "source": [
    "customer.head()"
   ]
  },
  {
   "cell_type": "markdown",
   "id": "8058942a-0812-48a4-b167-d0436e087724",
   "metadata": {},
   "source": [
    "#### Since I am unaware of the analysis asked by the client, I don't delete any columns"
   ]
  },
  {
   "cell_type": "markdown",
   "id": "611409f5-118c-455e-ae61-a0b707c87683",
   "metadata": {},
   "source": [
    "# 03. Check the fundamental data quality and consistency, as missing values and duplicate"
   ]
  },
  {
   "cell_type": "code",
   "execution_count": 8,
   "id": "f9b47bd2-74fd-4e10-95f8-10d8a79179ed",
   "metadata": {},
   "outputs": [
    {
     "data": {
      "text/plain": [
       "(206209, 10)"
      ]
     },
     "execution_count": 8,
     "metadata": {},
     "output_type": "execute_result"
    }
   ],
   "source": [
    "# Check the dimentions\n",
    "customer.shape"
   ]
  },
  {
   "cell_type": "code",
   "execution_count": 9,
   "id": "5ec1fee5-c083-492f-8df0-0e561a15c7ea",
   "metadata": {},
   "outputs": [
    {
     "data": {
      "text/html": [
       "<div>\n",
       "<style scoped>\n",
       "    .dataframe tbody tr th:only-of-type {\n",
       "        vertical-align: middle;\n",
       "    }\n",
       "\n",
       "    .dataframe tbody tr th {\n",
       "        vertical-align: top;\n",
       "    }\n",
       "\n",
       "    .dataframe thead th {\n",
       "        text-align: right;\n",
       "    }\n",
       "</style>\n",
       "<table border=\"1\" class=\"dataframe\">\n",
       "  <thead>\n",
       "    <tr style=\"text-align: right;\">\n",
       "      <th></th>\n",
       "      <th>user_id</th>\n",
       "      <th>age</th>\n",
       "      <th>n_dependants</th>\n",
       "      <th>income</th>\n",
       "    </tr>\n",
       "  </thead>\n",
       "  <tbody>\n",
       "    <tr>\n",
       "      <th>count</th>\n",
       "      <td>206209.000000</td>\n",
       "      <td>206209.000000</td>\n",
       "      <td>206209.000000</td>\n",
       "      <td>206209.000000</td>\n",
       "    </tr>\n",
       "    <tr>\n",
       "      <th>mean</th>\n",
       "      <td>103105.000000</td>\n",
       "      <td>49.501646</td>\n",
       "      <td>1.499823</td>\n",
       "      <td>94632.852548</td>\n",
       "    </tr>\n",
       "    <tr>\n",
       "      <th>std</th>\n",
       "      <td>59527.555167</td>\n",
       "      <td>18.480962</td>\n",
       "      <td>1.118433</td>\n",
       "      <td>42473.786988</td>\n",
       "    </tr>\n",
       "    <tr>\n",
       "      <th>min</th>\n",
       "      <td>1.000000</td>\n",
       "      <td>18.000000</td>\n",
       "      <td>0.000000</td>\n",
       "      <td>25903.000000</td>\n",
       "    </tr>\n",
       "    <tr>\n",
       "      <th>25%</th>\n",
       "      <td>51553.000000</td>\n",
       "      <td>33.000000</td>\n",
       "      <td>0.000000</td>\n",
       "      <td>59874.000000</td>\n",
       "    </tr>\n",
       "    <tr>\n",
       "      <th>50%</th>\n",
       "      <td>103105.000000</td>\n",
       "      <td>49.000000</td>\n",
       "      <td>1.000000</td>\n",
       "      <td>93547.000000</td>\n",
       "    </tr>\n",
       "    <tr>\n",
       "      <th>75%</th>\n",
       "      <td>154657.000000</td>\n",
       "      <td>66.000000</td>\n",
       "      <td>3.000000</td>\n",
       "      <td>124244.000000</td>\n",
       "    </tr>\n",
       "    <tr>\n",
       "      <th>max</th>\n",
       "      <td>206209.000000</td>\n",
       "      <td>81.000000</td>\n",
       "      <td>3.000000</td>\n",
       "      <td>593901.000000</td>\n",
       "    </tr>\n",
       "  </tbody>\n",
       "</table>\n",
       "</div>"
      ],
      "text/plain": [
       "             user_id            age   n_dependants         income\n",
       "count  206209.000000  206209.000000  206209.000000  206209.000000\n",
       "mean   103105.000000      49.501646       1.499823   94632.852548\n",
       "std     59527.555167      18.480962       1.118433   42473.786988\n",
       "min         1.000000      18.000000       0.000000   25903.000000\n",
       "25%     51553.000000      33.000000       0.000000   59874.000000\n",
       "50%    103105.000000      49.000000       1.000000   93547.000000\n",
       "75%    154657.000000      66.000000       3.000000  124244.000000\n",
       "max    206209.000000      81.000000       3.000000  593901.000000"
      ]
     },
     "execution_count": 9,
     "metadata": {},
     "output_type": "execute_result"
    }
   ],
   "source": [
    "# Check the descriptive statistics\n",
    "customer.describe()"
   ]
  },
  {
   "cell_type": "code",
   "execution_count": 10,
   "id": "a4f5c087-b5ca-4e86-bb2e-b31cf8e97a43",
   "metadata": {},
   "outputs": [
    {
     "data": {
      "text/plain": [
       "user_id             int64\n",
       "first_name         object\n",
       "family_name        object\n",
       "gender             object\n",
       "state              object\n",
       "age                 int64\n",
       "date_joined        object\n",
       "n_dependants        int64\n",
       "marital_statues    object\n",
       "income              int64\n",
       "dtype: object"
      ]
     },
     "execution_count": 10,
     "metadata": {},
     "output_type": "execute_result"
    }
   ],
   "source": [
    "# Check the data type\n",
    "customer.dtypes"
   ]
  },
  {
   "cell_type": "code",
   "execution_count": 11,
   "id": "3c12caf9-7896-46c3-b12c-ae546e578ed3",
   "metadata": {},
   "outputs": [
    {
     "name": "stdout",
     "output_type": "stream",
     "text": [
      "first_name\n"
     ]
    }
   ],
   "source": [
    "# Check for mixed data types\n",
    "for col in customer.columns.tolist():\n",
    "    weird = (customer[[col]].map(type) != customer[[col]].iloc[0].apply(type)).any (axis=1)\n",
    "    if len(customer[weird]) > 0:\n",
    "        print(col)"
   ]
  },
  {
   "cell_type": "code",
   "execution_count": 12,
   "id": "2c7d3d77-d76c-4bfa-94d6-751fecfde38a",
   "metadata": {},
   "outputs": [],
   "source": [
    "# first_name column has a mixed data type and it should all be united and listed as a string\n",
    "customer['first_name'] = customer['first_name'].astype('str')"
   ]
  },
  {
   "cell_type": "code",
   "execution_count": 13,
   "id": "ece04b44-e22b-4521-8da1-cd43266dbbe9",
   "metadata": {},
   "outputs": [],
   "source": [
    "# user_id is made of numbers but not of statistical value, so it should also be changed to string\n",
    "customer['user_id'] = customer['user_id'].astype('str')"
   ]
  },
  {
   "cell_type": "code",
   "execution_count": 14,
   "id": "8ca1a41f-8b49-4954-bb28-3a5ec8b0ffff",
   "metadata": {},
   "outputs": [
    {
     "data": {
      "text/plain": [
       "user_id            object\n",
       "first_name         object\n",
       "family_name        object\n",
       "gender             object\n",
       "state              object\n",
       "age                 int64\n",
       "date_joined        object\n",
       "n_dependants        int64\n",
       "marital_statues    object\n",
       "income              int64\n",
       "dtype: object"
      ]
     },
     "execution_count": 14,
     "metadata": {},
     "output_type": "execute_result"
    }
   ],
   "source": [
    "# Check the data types again\n",
    "customer.dtypes"
   ]
  },
  {
   "cell_type": "code",
   "execution_count": 15,
   "id": "883f2545-81ce-491d-bb22-081a270af6f1",
   "metadata": {},
   "outputs": [
    {
     "data": {
      "text/plain": [
       "user_id            0\n",
       "first_name         0\n",
       "family_name        0\n",
       "gender             0\n",
       "state              0\n",
       "age                0\n",
       "date_joined        0\n",
       "n_dependants       0\n",
       "marital_statues    0\n",
       "income             0\n",
       "dtype: int64"
      ]
     },
     "execution_count": 15,
     "metadata": {},
     "output_type": "execute_result"
    }
   ],
   "source": [
    "# Check for missing data\n",
    "customer.isnull().sum()"
   ]
  },
  {
   "cell_type": "code",
   "execution_count": 16,
   "id": "9952771d-4631-4b75-ab92-b2bd2875b6ba",
   "metadata": {},
   "outputs": [],
   "source": [
    "# Check for duplicates\n",
    "customer_dups = customer[customer.duplicated()]"
   ]
  },
  {
   "cell_type": "code",
   "execution_count": 17,
   "id": "b6ec2303-a5b2-4e72-9a58-a2ccd83e6353",
   "metadata": {},
   "outputs": [
    {
     "data": {
      "text/html": [
       "<div>\n",
       "<style scoped>\n",
       "    .dataframe tbody tr th:only-of-type {\n",
       "        vertical-align: middle;\n",
       "    }\n",
       "\n",
       "    .dataframe tbody tr th {\n",
       "        vertical-align: top;\n",
       "    }\n",
       "\n",
       "    .dataframe thead th {\n",
       "        text-align: right;\n",
       "    }\n",
       "</style>\n",
       "<table border=\"1\" class=\"dataframe\">\n",
       "  <thead>\n",
       "    <tr style=\"text-align: right;\">\n",
       "      <th></th>\n",
       "      <th>user_id</th>\n",
       "      <th>first_name</th>\n",
       "      <th>family_name</th>\n",
       "      <th>gender</th>\n",
       "      <th>state</th>\n",
       "      <th>age</th>\n",
       "      <th>date_joined</th>\n",
       "      <th>n_dependants</th>\n",
       "      <th>marital_statues</th>\n",
       "      <th>income</th>\n",
       "    </tr>\n",
       "  </thead>\n",
       "  <tbody>\n",
       "  </tbody>\n",
       "</table>\n",
       "</div>"
      ],
      "text/plain": [
       "Empty DataFrame\n",
       "Columns: [user_id, first_name, family_name, gender, state, age, date_joined, n_dependants, marital_statues, income]\n",
       "Index: []"
      ]
     },
     "execution_count": 17,
     "metadata": {},
     "output_type": "execute_result"
    }
   ],
   "source": [
    "customer_dups"
   ]
  },
  {
   "cell_type": "markdown",
   "id": "9c22c3c0-76d1-4b20-ae08-7ddee46e01bd",
   "metadata": {},
   "source": [
    "##### No missing value and no duplicates were found."
   ]
  },
  {
   "cell_type": "markdown",
   "id": "1bcd90a4-9e05-4c6e-859c-9d801122e918",
   "metadata": {},
   "source": [
    "# 04.  Combine the sutomer data with the instracart data"
   ]
  },
  {
   "cell_type": "code",
   "execution_count": 18,
   "id": "c48c1f0d-6ead-4526-9e7c-15dbc5368121",
   "metadata": {},
   "outputs": [],
   "source": [
    "# Import the rest of the prepared Instacart data\n",
    "ords_prods = pd.read_pickle(os.path.join(path, '02 Data', 'Prepared Data', 'ords_prods_grouped.pkl'))"
   ]
  },
  {
   "cell_type": "code",
   "execution_count": 19,
   "id": "6c1c0320-caf9-46eb-9920-1c6b631430c4",
   "metadata": {},
   "outputs": [
    {
     "data": {
      "text/plain": [
       "Index(['product_id', 'product_name', 'aisle_id', 'department_id', 'prices',\n",
       "       'order_id', 'user_id', 'order_number', 'orders_day_of_week',\n",
       "       'order_hour_of_day', 'days_since_prior_order', 'new_customer',\n",
       "       'add_to_cart_order', 'reordered', '_merge', 'price_range_loc',\n",
       "       'busiest_day', 'busiest_days', 'busiest_period_of_day', 'max_order',\n",
       "       'loyalty_flag', 'mean_product_price', 'spending_flag',\n",
       "       'median_days_since_prior_order', 'order_frequency'],\n",
       "      dtype='object')"
      ]
     },
     "execution_count": 19,
     "metadata": {},
     "output_type": "execute_result"
    }
   ],
   "source": [
    "ords_prods.columns"
   ]
  },
  {
   "cell_type": "code",
   "execution_count": 20,
   "id": "d58b7aa8-346a-4aed-b31a-73ce5a94ade2",
   "metadata": {},
   "outputs": [],
   "source": [
    "# I should drop the '_merge' column since it will cause problems in the future when I want to merge the customer dataframe\n",
    "ords_prods.drop(columns=['_merge'], inplace= True)"
   ]
  },
  {
   "cell_type": "code",
   "execution_count": 21,
   "id": "72cb175e-6053-468a-b750-b68e4b475aa7",
   "metadata": {},
   "outputs": [
    {
     "data": {
      "text/plain": [
       "Index(['product_id', 'product_name', 'aisle_id', 'department_id', 'prices',\n",
       "       'order_id', 'user_id', 'order_number', 'orders_day_of_week',\n",
       "       'order_hour_of_day', 'days_since_prior_order', 'new_customer',\n",
       "       'add_to_cart_order', 'reordered', 'price_range_loc', 'busiest_day',\n",
       "       'busiest_days', 'busiest_period_of_day', 'max_order', 'loyalty_flag',\n",
       "       'mean_product_price', 'spending_flag', 'median_days_since_prior_order',\n",
       "       'order_frequency'],\n",
       "      dtype='object')"
      ]
     },
     "execution_count": 21,
     "metadata": {},
     "output_type": "execute_result"
    }
   ],
   "source": [
    "# Check the columns again\n",
    "ords_prods.columns"
   ]
  },
  {
   "cell_type": "code",
   "execution_count": 22,
   "id": "cc5e8702-3e51-4523-a9d5-eb311253eb65",
   "metadata": {},
   "outputs": [
    {
     "data": {
      "text/plain": [
       "(32404859, 24)"
      ]
     },
     "execution_count": 22,
     "metadata": {},
     "output_type": "execute_result"
    }
   ],
   "source": [
    "ords_prods.shape"
   ]
  },
  {
   "cell_type": "code",
   "execution_count": 23,
   "id": "3708427f-c758-4914-b4d1-a8054bb2b01e",
   "metadata": {},
   "outputs": [
    {
     "data": {
      "text/plain": [
       "(206209, 10)"
      ]
     },
     "execution_count": 23,
     "metadata": {},
     "output_type": "execute_result"
    }
   ],
   "source": [
    "customer.shape"
   ]
  },
  {
   "cell_type": "markdown",
   "id": "c2845d4d-6cfd-4b80-ab4b-4536c817d352",
   "metadata": {},
   "source": [
    "##### Both data frames share the user_id column and the customer data frame is considerably smaller"
   ]
  },
  {
   "cell_type": "code",
   "execution_count": 24,
   "id": "557cb1d3-ed60-4457-9f1b-d1d68b09417b",
   "metadata": {},
   "outputs": [
    {
     "data": {
      "text/plain": [
       "dtype('int32')"
      ]
     },
     "execution_count": 24,
     "metadata": {},
     "output_type": "execute_result"
    }
   ],
   "source": [
    "# Check the data type of the shared column\n",
    "ords_prods.dtypes['user_id']"
   ]
  },
  {
   "cell_type": "markdown",
   "id": "6877b479-84e0-4c29-a203-d4d8d7236854",
   "metadata": {},
   "source": [
    "##### we changed the user_id in the 'customer' data frame to string and we should do that here as well"
   ]
  },
  {
   "cell_type": "code",
   "execution_count": 25,
   "id": "9d93cdab-5009-4bd4-9f4f-3abcb9242920",
   "metadata": {},
   "outputs": [],
   "source": [
    "ords_prods['user_id'] = ords_prods ['user_id'].astype('str')"
   ]
  },
  {
   "cell_type": "code",
   "execution_count": 26,
   "id": "1722df0a-54b1-46ed-bb50-370ab8edd235",
   "metadata": {},
   "outputs": [
    {
     "data": {
      "text/plain": [
       "dtype('O')"
      ]
     },
     "execution_count": 26,
     "metadata": {},
     "output_type": "execute_result"
    }
   ],
   "source": [
    "# Check the data types again\n",
    "ords_prods.dtypes['user_id']"
   ]
  },
  {
   "cell_type": "code",
   "execution_count": 27,
   "id": "d0a5ef8d-e8d7-4cec-b1b3-36fc29c67421",
   "metadata": {},
   "outputs": [
    {
     "data": {
      "text/plain": [
       "dtype('O')"
      ]
     },
     "execution_count": 27,
     "metadata": {},
     "output_type": "execute_result"
    }
   ],
   "source": [
    "customer.dtypes['user_id']"
   ]
  },
  {
   "cell_type": "markdown",
   "id": "3e7f0da6-b328-4376-9276-96766621a603",
   "metadata": {},
   "source": [
    "##### Now the key column has the same data type in both data frames"
   ]
  },
  {
   "cell_type": "code",
   "execution_count": 28,
   "id": "d82e16d4-5bc3-46ad-a210-c8afe2eb6b0d",
   "metadata": {},
   "outputs": [],
   "source": [
    "# Merge command and by adding the indicator, it will add a new column '_merge' to indicate the source of each raw\n",
    "ords_prods_cust = ords_prods.merge(customer, on = 'user_id', indicator = True)"
   ]
  },
  {
   "cell_type": "code",
   "execution_count": 29,
   "id": "0a0489fc-f60b-45d2-875f-57fdc3f8e596",
   "metadata": {},
   "outputs": [
    {
     "data": {
      "text/plain": [
       "(32404859, 34)"
      ]
     },
     "execution_count": 29,
     "metadata": {},
     "output_type": "execute_result"
    }
   ],
   "source": [
    "ords_prods_cust.shape"
   ]
  },
  {
   "cell_type": "code",
   "execution_count": 30,
   "id": "259df518-b60e-4494-a51e-56d8ee86cef0",
   "metadata": {},
   "outputs": [
    {
     "data": {
      "text/html": [
       "<div>\n",
       "<style scoped>\n",
       "    .dataframe tbody tr th:only-of-type {\n",
       "        vertical-align: middle;\n",
       "    }\n",
       "\n",
       "    .dataframe tbody tr th {\n",
       "        vertical-align: top;\n",
       "    }\n",
       "\n",
       "    .dataframe thead th {\n",
       "        text-align: right;\n",
       "    }\n",
       "</style>\n",
       "<table border=\"1\" class=\"dataframe\">\n",
       "  <thead>\n",
       "    <tr style=\"text-align: right;\">\n",
       "      <th></th>\n",
       "      <th>product_id</th>\n",
       "      <th>product_name</th>\n",
       "      <th>aisle_id</th>\n",
       "      <th>department_id</th>\n",
       "      <th>prices</th>\n",
       "      <th>order_id</th>\n",
       "      <th>user_id</th>\n",
       "      <th>order_number</th>\n",
       "      <th>orders_day_of_week</th>\n",
       "      <th>order_hour_of_day</th>\n",
       "      <th>...</th>\n",
       "      <th>first_name</th>\n",
       "      <th>family_name</th>\n",
       "      <th>gender</th>\n",
       "      <th>state</th>\n",
       "      <th>age</th>\n",
       "      <th>date_joined</th>\n",
       "      <th>n_dependants</th>\n",
       "      <th>marital_statues</th>\n",
       "      <th>income</th>\n",
       "      <th>_merge</th>\n",
       "    </tr>\n",
       "  </thead>\n",
       "  <tbody>\n",
       "    <tr>\n",
       "      <th>0</th>\n",
       "      <td>1</td>\n",
       "      <td>Chocolate Sandwich Cookies</td>\n",
       "      <td>61</td>\n",
       "      <td>19</td>\n",
       "      <td>5.8</td>\n",
       "      <td>3139998</td>\n",
       "      <td>138</td>\n",
       "      <td>28</td>\n",
       "      <td>6</td>\n",
       "      <td>11</td>\n",
       "      <td>...</td>\n",
       "      <td>Charles</td>\n",
       "      <td>Cox</td>\n",
       "      <td>Male</td>\n",
       "      <td>Minnesota</td>\n",
       "      <td>81</td>\n",
       "      <td>8/1/2019</td>\n",
       "      <td>1</td>\n",
       "      <td>married</td>\n",
       "      <td>49620</td>\n",
       "      <td>both</td>\n",
       "    </tr>\n",
       "    <tr>\n",
       "      <th>1</th>\n",
       "      <td>1</td>\n",
       "      <td>Chocolate Sandwich Cookies</td>\n",
       "      <td>61</td>\n",
       "      <td>19</td>\n",
       "      <td>5.8</td>\n",
       "      <td>1977647</td>\n",
       "      <td>138</td>\n",
       "      <td>30</td>\n",
       "      <td>6</td>\n",
       "      <td>17</td>\n",
       "      <td>...</td>\n",
       "      <td>Charles</td>\n",
       "      <td>Cox</td>\n",
       "      <td>Male</td>\n",
       "      <td>Minnesota</td>\n",
       "      <td>81</td>\n",
       "      <td>8/1/2019</td>\n",
       "      <td>1</td>\n",
       "      <td>married</td>\n",
       "      <td>49620</td>\n",
       "      <td>both</td>\n",
       "    </tr>\n",
       "    <tr>\n",
       "      <th>2</th>\n",
       "      <td>907</td>\n",
       "      <td>Premium Sliced Bacon</td>\n",
       "      <td>106</td>\n",
       "      <td>12</td>\n",
       "      <td>20.0</td>\n",
       "      <td>3160996</td>\n",
       "      <td>138</td>\n",
       "      <td>1</td>\n",
       "      <td>5</td>\n",
       "      <td>13</td>\n",
       "      <td>...</td>\n",
       "      <td>Charles</td>\n",
       "      <td>Cox</td>\n",
       "      <td>Male</td>\n",
       "      <td>Minnesota</td>\n",
       "      <td>81</td>\n",
       "      <td>8/1/2019</td>\n",
       "      <td>1</td>\n",
       "      <td>married</td>\n",
       "      <td>49620</td>\n",
       "      <td>both</td>\n",
       "    </tr>\n",
       "    <tr>\n",
       "      <th>3</th>\n",
       "      <td>907</td>\n",
       "      <td>Premium Sliced Bacon</td>\n",
       "      <td>106</td>\n",
       "      <td>12</td>\n",
       "      <td>20.0</td>\n",
       "      <td>2254091</td>\n",
       "      <td>138</td>\n",
       "      <td>10</td>\n",
       "      <td>5</td>\n",
       "      <td>14</td>\n",
       "      <td>...</td>\n",
       "      <td>Charles</td>\n",
       "      <td>Cox</td>\n",
       "      <td>Male</td>\n",
       "      <td>Minnesota</td>\n",
       "      <td>81</td>\n",
       "      <td>8/1/2019</td>\n",
       "      <td>1</td>\n",
       "      <td>married</td>\n",
       "      <td>49620</td>\n",
       "      <td>both</td>\n",
       "    </tr>\n",
       "    <tr>\n",
       "      <th>4</th>\n",
       "      <td>1000</td>\n",
       "      <td>Apricots</td>\n",
       "      <td>18</td>\n",
       "      <td>10</td>\n",
       "      <td>12.9</td>\n",
       "      <td>505689</td>\n",
       "      <td>138</td>\n",
       "      <td>9</td>\n",
       "      <td>6</td>\n",
       "      <td>12</td>\n",
       "      <td>...</td>\n",
       "      <td>Charles</td>\n",
       "      <td>Cox</td>\n",
       "      <td>Male</td>\n",
       "      <td>Minnesota</td>\n",
       "      <td>81</td>\n",
       "      <td>8/1/2019</td>\n",
       "      <td>1</td>\n",
       "      <td>married</td>\n",
       "      <td>49620</td>\n",
       "      <td>both</td>\n",
       "    </tr>\n",
       "  </tbody>\n",
       "</table>\n",
       "<p>5 rows × 34 columns</p>\n",
       "</div>"
      ],
      "text/plain": [
       "   product_id                product_name  aisle_id  department_id  prices  \\\n",
       "0           1  Chocolate Sandwich Cookies        61             19     5.8   \n",
       "1           1  Chocolate Sandwich Cookies        61             19     5.8   \n",
       "2         907        Premium Sliced Bacon       106             12    20.0   \n",
       "3         907        Premium Sliced Bacon       106             12    20.0   \n",
       "4        1000                    Apricots        18             10    12.9   \n",
       "\n",
       "   order_id user_id  order_number  orders_day_of_week  order_hour_of_day  ...  \\\n",
       "0   3139998     138            28                   6                 11  ...   \n",
       "1   1977647     138            30                   6                 17  ...   \n",
       "2   3160996     138             1                   5                 13  ...   \n",
       "3   2254091     138            10                   5                 14  ...   \n",
       "4    505689     138             9                   6                 12  ...   \n",
       "\n",
       "   first_name  family_name  gender      state age date_joined n_dependants  \\\n",
       "0     Charles          Cox    Male  Minnesota  81    8/1/2019            1   \n",
       "1     Charles          Cox    Male  Minnesota  81    8/1/2019            1   \n",
       "2     Charles          Cox    Male  Minnesota  81    8/1/2019            1   \n",
       "3     Charles          Cox    Male  Minnesota  81    8/1/2019            1   \n",
       "4     Charles          Cox    Male  Minnesota  81    8/1/2019            1   \n",
       "\n",
       "  marital_statues  income _merge  \n",
       "0         married   49620   both  \n",
       "1         married   49620   both  \n",
       "2         married   49620   both  \n",
       "3         married   49620   both  \n",
       "4         married   49620   both  \n",
       "\n",
       "[5 rows x 34 columns]"
      ]
     },
     "execution_count": 30,
     "metadata": {},
     "output_type": "execute_result"
    }
   ],
   "source": [
    "ords_prods_cust.head()"
   ]
  },
  {
   "cell_type": "code",
   "execution_count": 31,
   "id": "d12d6523-51ae-49e3-81ff-5cf96cd29c13",
   "metadata": {},
   "outputs": [
    {
     "data": {
      "text/plain": [
       "_merge\n",
       "both          32404859\n",
       "left_only            0\n",
       "right_only           0\n",
       "Name: count, dtype: int64"
      ]
     },
     "execution_count": 31,
     "metadata": {},
     "output_type": "execute_result"
    }
   ],
   "source": [
    "# Check the frequency of _merge\n",
    "ords_prods_cust['_merge'].value_counts()"
   ]
  },
  {
   "cell_type": "code",
   "execution_count": 32,
   "id": "412e7703-0d31-489b-851e-28473f78523e",
   "metadata": {},
   "outputs": [
    {
     "data": {
      "text/plain": [
       "product_id                          int32\n",
       "product_name                       object\n",
       "aisle_id                            int32\n",
       "department_id                       int32\n",
       "prices                            float32\n",
       "order_id                            int32\n",
       "user_id                            object\n",
       "order_number                         int8\n",
       "orders_day_of_week                   int8\n",
       "order_hour_of_day                    int8\n",
       "days_since_prior_order            float32\n",
       "new_customer                         bool\n",
       "add_to_cart_order                   int32\n",
       "reordered                            int8\n",
       "price_range_loc                    object\n",
       "busiest_day                        object\n",
       "busiest_days                       object\n",
       "busiest_period_of_day              object\n",
       "max_order                            int8\n",
       "loyalty_flag                       object\n",
       "mean_product_price                float32\n",
       "spending_flag                      object\n",
       "median_days_since_prior_order     float32\n",
       "order_frequency                    object\n",
       "first_name                         object\n",
       "family_name                        object\n",
       "gender                             object\n",
       "state                              object\n",
       "age                                 int64\n",
       "date_joined                        object\n",
       "n_dependants                        int64\n",
       "marital_statues                    object\n",
       "income                              int64\n",
       "_merge                           category\n",
       "dtype: object"
      ]
     },
     "execution_count": 32,
     "metadata": {},
     "output_type": "execute_result"
    }
   ],
   "source": [
    "# Check the data type\n",
    "ords_prods_cust.dtypes"
   ]
  },
  {
   "cell_type": "code",
   "execution_count": 33,
   "id": "f1217aaf-47e8-46bd-989d-56cd01f291e0",
   "metadata": {},
   "outputs": [],
   "source": [
    "# 'order_id' data dtype should be changed to string too\n",
    "ords_prods_cust['order_id'] = ords_prods_cust['order_id'].astype('str')"
   ]
  },
  {
   "cell_type": "code",
   "execution_count": 34,
   "id": "4468a172-84ba-4ecc-9856-cc7116963bdb",
   "metadata": {},
   "outputs": [],
   "source": [
    "# 'product_id' data dtype should be changed to string too\n",
    "ords_prods_cust['product_id'] = ords_prods_cust['product_id'].astype('str')"
   ]
  },
  {
   "cell_type": "code",
   "execution_count": 35,
   "id": "ba9b8d71-0f9c-48e2-9589-0cad6e1468ce",
   "metadata": {},
   "outputs": [],
   "source": [
    "# 'aisle_id' data dtype should be changed to string too\n",
    "ords_prods_cust['aisle_id'] = ords_prods_cust['aisle_id'].astype('str')"
   ]
  },
  {
   "cell_type": "code",
   "execution_count": 36,
   "id": "49ba6667-235e-4f7b-8c40-56d4650edeee",
   "metadata": {},
   "outputs": [],
   "source": [
    "# 'department_id' data dtype should be changed to string too\n",
    "ords_prods_cust['department_id'] = ords_prods_cust['department_id'].astype('str')"
   ]
  },
  {
   "cell_type": "code",
   "execution_count": 37,
   "id": "ac370486-c69c-47f9-b5e9-a4b9c7645b1f",
   "metadata": {},
   "outputs": [
    {
     "data": {
      "text/plain": [
       "product_id                         object\n",
       "product_name                       object\n",
       "aisle_id                           object\n",
       "department_id                      object\n",
       "prices                            float32\n",
       "order_id                           object\n",
       "user_id                            object\n",
       "order_number                         int8\n",
       "orders_day_of_week                   int8\n",
       "order_hour_of_day                    int8\n",
       "days_since_prior_order            float32\n",
       "new_customer                         bool\n",
       "add_to_cart_order                   int32\n",
       "reordered                            int8\n",
       "price_range_loc                    object\n",
       "busiest_day                        object\n",
       "busiest_days                       object\n",
       "busiest_period_of_day              object\n",
       "max_order                            int8\n",
       "loyalty_flag                       object\n",
       "mean_product_price                float32\n",
       "spending_flag                      object\n",
       "median_days_since_prior_order     float32\n",
       "order_frequency                    object\n",
       "first_name                         object\n",
       "family_name                        object\n",
       "gender                             object\n",
       "state                              object\n",
       "age                                 int64\n",
       "date_joined                        object\n",
       "n_dependants                        int64\n",
       "marital_statues                    object\n",
       "income                              int64\n",
       "_merge                           category\n",
       "dtype: object"
      ]
     },
     "execution_count": 37,
     "metadata": {},
     "output_type": "execute_result"
    }
   ],
   "source": [
    "# check the data type\n",
    "ords_prods_cust.dtypes"
   ]
  },
  {
   "cell_type": "markdown",
   "id": "c5160c37-4510-4359-9c54-96f0bcc989e4",
   "metadata": {},
   "source": [
    "# 05. Export"
   ]
  },
  {
   "cell_type": "code",
   "execution_count": 38,
   "id": "be497fe9-f747-42b5-8fa6-376280732b80",
   "metadata": {},
   "outputs": [],
   "source": [
    "ords_prods_cust.to_pickle(os.path.join(path, '02 Data','Prepared Data', 'orders_products_customers_merged.pkl'))"
   ]
  },
  {
   "cell_type": "code",
   "execution_count": null,
   "id": "a219a3b3-1fe3-4f6a-9353-d4a218519e39",
   "metadata": {},
   "outputs": [],
   "source": []
  }
 ],
 "metadata": {
  "kernelspec": {
   "display_name": "Python 3 (ipykernel)",
   "language": "python",
   "name": "python3"
  },
  "language_info": {
   "codemirror_mode": {
    "name": "ipython",
    "version": 3
   },
   "file_extension": ".py",
   "mimetype": "text/x-python",
   "name": "python",
   "nbconvert_exporter": "python",
   "pygments_lexer": "ipython3",
   "version": "3.11.7"
  }
 },
 "nbformat": 4,
 "nbformat_minor": 5
}
