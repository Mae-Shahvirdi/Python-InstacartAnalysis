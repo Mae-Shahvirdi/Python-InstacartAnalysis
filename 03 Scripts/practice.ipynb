{
 "cells": [
  {
   "cell_type": "code",
   "execution_count": 5,
   "id": "4e90cf5f-01c0-4177-92e3-b969c1023410",
   "metadata": {},
   "outputs": [],
   "source": [
    "import pandas as pd\n",
    "import numpy as np\n",
    "import os"
   ]
  },
  {
   "cell_type": "raw",
   "id": "467911c9-a370-45ba-9924-81fea63ea920",
   "metadata": {},
   "source": [
    "path = r'/Users/fatemehshahvirdi/Work-Related/Data Analysis/Data Immersion/Achievement 4/Instacart Basket Analysis'"
   ]
  },
  {
   "cell_type": "code",
   "execution_count": 6,
   "id": "13e2dc98-ee74-419e-9e9e-a438f31783fb",
   "metadata": {},
   "outputs": [],
   "source": [
    "path = r'/Users/fatemehshahvirdi/Work-Related/Data Analysis/Data Immersion/Achievement 4/Instacart Basket Analysis'"
   ]
  },
  {
   "cell_type": "code",
   "execution_count": 8,
   "id": "6e91d81f-c462-4beb-bd54-0ba2030791d0",
   "metadata": {},
   "outputs": [],
   "source": [
    "df = pd.read_csv( os.path.join(path, '02 Data', 'Original Data', 'orders.csv'), index_col = False)"
   ]
  },
  {
   "cell_type": "code",
   "execution_count": 11,
   "id": "ee3ed1e9-60dc-4174-a509-2db76649a88f",
   "metadata": {},
   "outputs": [],
   "source": [
    "s = 'Hi\\nHello'"
   ]
  },
  {
   "cell_type": "code",
   "execution_count": 13,
   "id": "6e1883ad-02c0-4a3d-96d7-dd2168a89e51",
   "metadata": {},
   "outputs": [
    {
     "name": "stdout",
     "output_type": "stream",
     "text": [
      "Hi\n",
      "Hello\n"
     ]
    }
   ],
   "source": [
    "print (s)"
   ]
  },
  {
   "cell_type": "code",
   "execution_count": 17,
   "id": "7f2fff99-9856-4435-900b-5bd2b0012a63",
   "metadata": {},
   "outputs": [
    {
     "name": "stdout",
     "output_type": "stream",
     "text": [
      "Hi\\nHello\n"
     ]
    }
   ],
   "source": [
    "raw_s = r'Hi\\nHello'\n",
    "print(raw_s)"
   ]
  },
  {
   "cell_type": "code",
   "execution_count": 18,
   "id": "731c4153-d073-4e2d-b5dc-0b8c248352f5",
   "metadata": {},
   "outputs": [
    {
     "name": "stdout",
     "output_type": "stream",
     "text": [
      "ab\\\\\n"
     ]
    }
   ],
   "source": [
    "s2 = R'ab\\\\'\n",
    "print(s2)"
   ]
  },
  {
   "cell_type": "code",
   "execution_count": 23,
   "id": "45cd63af-9e5f-4be4-9bf5-efba47da8fe4",
   "metadata": {},
   "outputs": [
    {
     "ename": "SyntaxError",
     "evalue": "unterminated string literal (detected at line 1) (3420834899.py, line 1)",
     "output_type": "error",
     "traceback": [
      "\u001b[0;36m  Cell \u001b[0;32mIn[23], line 1\u001b[0;36m\u001b[0m\n\u001b[0;31m    s3 = R\"ab\\\\\\\"\u001b[0m\n\u001b[0m         ^\u001b[0m\n\u001b[0;31mSyntaxError\u001b[0m\u001b[0;31m:\u001b[0m unterminated string literal (detected at line 1)\n"
     ]
    }
   ],
   "source": [
    "s3 = R\"ab\\\\\\\"\n",
    "print(s3)"
   ]
  },
  {
   "cell_type": "code",
   "execution_count": 24,
   "id": "d5a1d0db-dc6b-40eb-a3b6-5eefd98b8d14",
   "metadata": {},
   "outputs": [
    {
     "name": "stdout",
     "output_type": "stream",
     "text": [
      "seven\n"
     ]
    }
   ],
   "source": [
    "s = 'seven'\n",
    "print(s)"
   ]
  },
  {
   "cell_type": "code",
   "execution_count": null,
   "id": "ba889892-be14-4f60-915d-1658360895ba",
   "metadata": {},
   "outputs": [],
   "source": []
  }
 ],
 "metadata": {
  "kernelspec": {
   "display_name": "Python 3 (ipykernel)",
   "language": "python",
   "name": "python3"
  },
  "language_info": {
   "codemirror_mode": {
    "name": "ipython",
    "version": 3
   },
   "file_extension": ".py",
   "mimetype": "text/x-python",
   "name": "python",
   "nbconvert_exporter": "python",
   "pygments_lexer": "ipython3",
   "version": "3.11.7"
  }
 },
 "nbformat": 4,
 "nbformat_minor": 5
}
